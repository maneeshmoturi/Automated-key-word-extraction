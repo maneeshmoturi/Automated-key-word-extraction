{
  "nbformat": 4,
  "nbformat_minor": 0,
  "metadata": {
    "colab": {
      "provenance": []
    },
    "kernelspec": {
      "name": "python3",
      "display_name": "Python 3"
    },
    "language_info": {
      "name": "python"
    }
  },
  "cells": [
    {
      "cell_type": "code",
      "execution_count": null,
      "metadata": {
        "id": "klr09DI30kOk"
      },
      "outputs": [],
      "source": [
        "!pip install yake\n",
        "!pip install keybert\n",
        "!pip install pprintpp"
      ]
    },
    {
      "cell_type": "code",
      "source": [
        "import yake\n",
        "import pprint\n",
        "from rake_nltk import Rake\n",
        "from nltk.corpus import stopwords \n",
        "import nltk\n",
        "nltk.download('all')"
      ],
      "metadata": {
        "id": "RodswzYn0lp4"
      },
      "execution_count": null,
      "outputs": []
    },
    {
      "cell_type": "code",
      "source": [
        "text = \"Natural language processing (NLP) refers to the branch of computer science—and more specifically, the branch of artificial intelligence or AI—concerned with giving computers the ability to understand text and spoken words in much the same way human beings can. NLP combines computational linguistics—rule-based modeling of human language—with statistical, machine learning, and deep learning models. Together, these technologies enable computers to process human language in the form of text or voice data and to ‘understand’ its full meaning, complete with the speaker or writer’s intent and sentiment. NLP drives computer programs that translate text from one language to another, respond to spoken commands, and summarize large volumes of text rapidly—even in real time. There’s a good chance you’ve interacted with NLP in the form of voice-operated GPS systems, digital assistants, speech-to-text dictation software, customer service chatbots, and other consumer conveniences. But NLP also plays a growing role in enterprise solutions that help streamline business operations, increase employee productivity, and simplify mission-critical business processes.\""
      ],
      "metadata": {
        "id": "HJ2hYLn20p82"
      },
      "execution_count": null,
      "outputs": []
    },
    {
      "cell_type": "code",
      "source": [
        "yake_keywords = []\n",
        "kw_extractor = yake.KeywordExtractor()\n",
        "language = \"en\"\n",
        "max_ngram_size = 3\n",
        "deduplication_threshold = 0.9\n",
        "numOfKeywords = 10"
      ],
      "metadata": {
        "id": "ms3BqnKv0vA5"
      },
      "execution_count": null,
      "outputs": []
    },
    {
      "cell_type": "code",
      "source": [
        "custom_kw_extractor = yake.KeywordExtractor(lan=language, \n",
        "                                            n=max_ngram_size, \n",
        "                                            dedupLim=deduplication_threshold, \n",
        "                                            top=numOfKeywords, \n",
        "                                            features=None)\n",
        "\n",
        "keywords = custom_kw_extractor.extract_keywords(text)\n",
        "for kw in keywords:\n",
        "  yake_keywords.append(kw[0].lower())\n",
        "  print(kw[0].lower())\n"
      ],
      "metadata": {
        "id": "Stevr5Se01mh"
      },
      "execution_count": null,
      "outputs": []
    }
  ]
}