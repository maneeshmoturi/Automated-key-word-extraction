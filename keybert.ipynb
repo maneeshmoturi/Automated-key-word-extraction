{
  "nbformat": 4,
  "nbformat_minor": 0,
  "metadata": {
    "colab": {
      "provenance": []
    },
    "kernelspec": {
      "name": "python3",
      "display_name": "Python 3"
    },
    "language_info": {
      "name": "python"
    }
  },
  "cells": [
    {
      "cell_type": "code",
      "execution_count": null,
      "metadata": {
        "id": "6BX2_4K91I0B"
      },
      "outputs": [],
      "source": [
        "!pip install yake\n",
        "!pip install keybert\n",
        "!pip install pprintpp"
      ]
    },
    {
      "cell_type": "code",
      "source": [
        "from keybert import KeyBERTd\n",
        "import pprint\n",
        "from nltk.corpus import stopwords \n",
        "import nltk\n",
        "nltk.download('all')"
      ],
      "metadata": {
        "id": "5QuQ053z1Jpf"
      },
      "execution_count": null,
      "outputs": []
    },
    {
      "cell_type": "code",
      "source": [
        "text = \"Natural language processing (NLP) refers to the branch of computer science—and more specifically, the branch of artificial intelligence or AI—concerned with giving computers the ability to understand text and spoken words in much the same way human beings can. NLP combines computational linguistics—rule-based modeling of human language—with statistical, machine learning, and deep learning models. Together, these technologies enable computers to process human language in the form of text or voice data and to ‘understand’ its full meaning, complete with the speaker or writer’s intent and sentiment. NLP drives computer programs that translate text from one language to another, respond to spoken commands, and summarize large volumes of text rapidly—even in real time. There’s a good chance you’ve interacted with NLP in the form of voice-operated GPS systems, digital assistants, speech-to-text dictation software, customer service chatbots, and other consumer conveniences. But NLP also plays a growing role in enterprise solutions that help streamline business operations, increase employee productivity, and simplify mission-critical business processes.\""
      ],
      "metadata": {
        "id": "f7FYzT101Zbx"
      },
      "execution_count": null,
      "outputs": []
    },
    {
      "cell_type": "code",
      "source": [
        "kw_model = KeyBERT(model='all-mpnet-base-v2')"
      ],
      "metadata": {
        "id": "PEtnZGmc1Ot_"
      },
      "execution_count": null,
      "outputs": []
    },
    {
      "cell_type": "code",
      "source": [
        "language = \"english\"\n",
        "max_ngram_size = (1,3)\n",
        "numOfKeywords = 10"
      ],
      "metadata": {
        "id": "rk570sB11Yii"
      },
      "execution_count": null,
      "outputs": []
    },
    {
      "cell_type": "code",
      "source": [
        "keywords = kw_model.extract_keywords(text,\n",
        "                                     keyphrase_ngram_range=max_ngram_size, \n",
        "                                     stop_words=language, \n",
        "                                     highlight=False,\n",
        "                                     top_n=numOfKeywords)\n",
        "\n",
        "keyBert_keywords= list(dict(keywords).keys())\n",
        "\n",
        "for i in keyBert_keywords:\n",
        "  print(i)"
      ],
      "metadata": {
        "id": "NzuJwxC71cPX"
      },
      "execution_count": null,
      "outputs": []
    }
  ]
}